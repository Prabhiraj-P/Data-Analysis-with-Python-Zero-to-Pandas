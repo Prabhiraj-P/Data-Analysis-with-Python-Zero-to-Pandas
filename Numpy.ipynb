{
  "nbformat": 4,
  "nbformat_minor": 0,
  "metadata": {
    "colab": {
      "provenance": []
    },
    "kernelspec": {
      "name": "python3",
      "display_name": "Python 3"
    },
    "language_info": {
      "name": "python"
    }
  },
  "cells": [
    {
      "cell_type": "markdown",
      "source": [
        "###Numerical computing with numpy"
      ],
      "metadata": {
        "id": "4IrW2gBE7GSF"
      }
    },
    {
      "cell_type": "code",
      "source": [
        "kanto=[73,67,43]\n",
        "johto=[91,88,64]\n",
        "hoenn=[87,134,58]\n",
        "sinnoh=[102,43,37]\n",
        "unova=[69,96,70]"
      ],
      "metadata": {
        "id": "P7fvDaie908V"
      },
      "execution_count": 2,
      "outputs": []
    }
  ]
}