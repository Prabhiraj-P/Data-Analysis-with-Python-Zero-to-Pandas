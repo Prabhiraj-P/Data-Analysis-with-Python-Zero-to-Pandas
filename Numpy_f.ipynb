{
  "nbformat": 4,
  "nbformat_minor": 0,
  "metadata": {
    "colab": {
      "provenance": []
    },
    "kernelspec": {
      "name": "python3",
      "display_name": "Python 3"
    },
    "language_info": {
      "name": "python"
    }
  },
  "cells": [
    {
      "cell_type": "markdown",
      "source": [
        "###Numerical computing with numpy"
      ],
      "metadata": {
        "id": "4IrW2gBE7GSF"
      }
    },
    {
      "cell_type": "code",
      "source": [
        "w1,w2,w3=0.3,0.2,0.5"
      ],
      "metadata": {
        "id": "0BzZOtiumj28"
      },
      "execution_count": 1,
      "outputs": []
    },
    {
      "cell_type": "code",
      "source": [
        "kanto=[73,67,43]\n",
        "johto=[91,88,64]\n",
        "hoenn=[87,134,58]\n",
        "sinnoh=[102,43,37]\n",
        "unova=[69,96,70]"
      ],
      "metadata": {
        "id": "P7fvDaie908V"
      },
      "execution_count": 2,
      "outputs": []
    },
    {
      "cell_type": "code",
      "source": [
        "weights=[w1,w2,w3]"
      ],
      "metadata": {
        "id": "HHqzbd9UmsS2"
      },
      "execution_count": 3,
      "outputs": []
    },
    {
      "cell_type": "markdown",
      "source": [
        "function to calculate crop yield"
      ],
      "metadata": {
        "id": "mg8IOkW0n3am"
      }
    },
    {
      "cell_type": "code",
      "source": [
        "def crop_yield(region,weight):\n",
        "  result=0\n",
        "  for x,w in zip(region,weight):#zip is to pairs out region and weight\n",
        "    result+=w*x\n",
        "  return result"
      ],
      "metadata": {
        "id": "jD3CoYVan0zK"
      },
      "execution_count": 4,
      "outputs": []
    },
    {
      "cell_type": "code",
      "source": [
        "crop_yield(sinnoh,weights)"
      ],
      "metadata": {
        "colab": {
          "base_uri": "https://localhost:8080/"
        },
        "id": "i1bqMjbSIDGo",
        "outputId": "d56d1e41-0c52-4672-c63d-691e54e82d8e"
      },
      "execution_count": 5,
      "outputs": [
        {
          "output_type": "execute_result",
          "data": {
            "text/plain": [
              "57.699999999999996"
            ]
          },
          "metadata": {},
          "execution_count": 5
        }
      ]
    },
    {
      "cell_type": "code",
      "source": [
        "import numpy as np\n"
      ],
      "metadata": {
        "id": "pCQJK_4WNURo"
      },
      "execution_count": 6,
      "outputs": []
    },
    {
      "cell_type": "code",
      "source": [
        "kanto=np.array([73,67,43])"
      ],
      "metadata": {
        "id": "m77G8RLKNYU-"
      },
      "execution_count": 7,
      "outputs": []
    },
    {
      "cell_type": "code",
      "source": [
        "weights=np.array([w1,w2,w3])"
      ],
      "metadata": {
        "id": "A7GDIipUOrDd"
      },
      "execution_count": 8,
      "outputs": []
    },
    {
      "cell_type": "markdown",
      "source": [
        "Dot product of numpy can be calculated by np.dot(array1,array2)"
      ],
      "metadata": {
        "id": "2-RhdlY6PA65"
      }
    },
    {
      "cell_type": "code",
      "source": [
        "np.dot(kanto,weights)"
      ],
      "metadata": {
        "colab": {
          "base_uri": "https://localhost:8080/"
        },
        "id": "Cs6Xo6HDPKQ0",
        "outputId": "ea436880-dcd4-47d6-9873-c684688127fd"
      },
      "execution_count": 9,
      "outputs": [
        {
          "output_type": "execute_result",
          "data": {
            "text/plain": [
              "56.8"
            ]
          },
          "metadata": {},
          "execution_count": 9
        }
      ]
    },
    {
      "cell_type": "code",
      "source": [
        "#python List\n",
        "arr1=list(range(1000000))\n",
        "arr2=list(range(1000000,2000000))"
      ],
      "metadata": {
        "id": "9fATswVGXdLs"
      },
      "execution_count": 10,
      "outputs": []
    },
    {
      "cell_type": "code",
      "source": [
        "arr1_np=np.array(arr1)\n",
        "arr2_np=np.array(arr2)"
      ],
      "metadata": {
        "id": "GwEozKW7X3c6"
      },
      "execution_count": 11,
      "outputs": []
    },
    {
      "cell_type": "code",
      "source": [
        "%%time\n",
        "result=0\n",
        "for x,y in zip(arr1,arr2):\n",
        "  result+=x*y\n",
        "print(result)"
      ],
      "metadata": {
        "colab": {
          "base_uri": "https://localhost:8080/"
        },
        "id": "GwYlG_UeYMgs",
        "outputId": "ed36b0cf-f710-4183-e3d6-130cd35b7413"
      },
      "execution_count": 12,
      "outputs": [
        {
          "output_type": "stream",
          "name": "stdout",
          "text": [
            "833332333333500000\n",
            "CPU times: user 317 ms, sys: 3.85 ms, total: 321 ms\n",
            "Wall time: 368 ms\n"
          ]
        }
      ]
    },
    {
      "cell_type": "code",
      "source": [
        "%%time\n",
        "print(np.dot(arr1,arr2))"
      ],
      "metadata": {
        "colab": {
          "base_uri": "https://localhost:8080/"
        },
        "id": "ow-ayh7ZYjGN",
        "outputId": "bf9988c9-ad5e-4298-c42b-dcc73abbc7d3"
      },
      "execution_count": 13,
      "outputs": [
        {
          "output_type": "stream",
          "name": "stdout",
          "text": [
            "833332333333500000\n",
            "CPU times: user 270 ms, sys: 11.7 ms, total: 282 ms\n",
            "Wall time: 317 ms\n"
          ]
        }
      ]
    },
    {
      "cell_type": "code",
      "source": [
        "input_np=np.array([[73,67,43],[91,88,64],[87,134,58],[102,43,37],[69,96,70]])"
      ],
      "metadata": {
        "id": "2-xrjT84at9F"
      },
      "execution_count": 14,
      "outputs": []
    },
    {
      "cell_type": "code",
      "source": [
        "weights.dtype"
      ],
      "metadata": {
        "colab": {
          "base_uri": "https://localhost:8080/"
        },
        "id": "OSovAYbkbLFx",
        "outputId": "a6d590a7-8dab-40e1-fe65-489321da6495"
      },
      "execution_count": 15,
      "outputs": [
        {
          "output_type": "execute_result",
          "data": {
            "text/plain": [
              "dtype('float64')"
            ]
          },
          "metadata": {},
          "execution_count": 15
        }
      ]
    },
    {
      "cell_type": "markdown",
      "source": [
        "###Multiplication of matrix"
      ],
      "metadata": {
        "id": "B6aQy7fwdvU8"
      }
    },
    {
      "cell_type": "code",
      "source": [
        "np.matmul(input_np,weights)"
      ],
      "metadata": {
        "colab": {
          "base_uri": "https://localhost:8080/"
        },
        "id": "I2KVPenpd03Y",
        "outputId": "24e4e140-cdc6-459f-fad4-c59cf9a17e05"
      },
      "execution_count": 16,
      "outputs": [
        {
          "output_type": "execute_result",
          "data": {
            "text/plain": [
              "array([56.8, 76.9, 81.9, 57.7, 74.9])"
            ]
          },
          "metadata": {},
          "execution_count": 16
        }
      ]
    },
    {
      "cell_type": "code",
      "source": [
        "input_np @ weights"
      ],
      "metadata": {
        "colab": {
          "base_uri": "https://localhost:8080/"
        },
        "id": "UC2U0HSueP7o",
        "outputId": "2a45a56e-fc21-40d1-d770-7409ee6391b5"
      },
      "execution_count": 17,
      "outputs": [
        {
          "output_type": "execute_result",
          "data": {
            "text/plain": [
              "array([56.8, 76.9, 81.9, 57.7, 74.9])"
            ]
          },
          "metadata": {},
          "execution_count": 17
        }
      ]
    },
    {
      "cell_type": "code",
      "source": [
        "import urllib.request"
      ],
      "metadata": {
        "id": "qWFkvnXghfTI"
      },
      "execution_count": 18,
      "outputs": []
    },
    {
      "cell_type": "code",
      "source": [
        "urllib.request.urlretrieve('https://gist.githubusercontent.com/BirajCoder/a4ffcb76fd6fb221d76ac2ee2b8584e9/raw/4054f90adfd361b7aa4255e99c2e874664094cea/climate.csv','climate.txt')"
      ],
      "metadata": {
        "colab": {
          "base_uri": "https://localhost:8080/"
        },
        "id": "xSVJeDl2jda3",
        "outputId": "73f84e5f-0e71-41b0-a81c-7a2e17b11c75"
      },
      "execution_count": 19,
      "outputs": [
        {
          "output_type": "execute_result",
          "data": {
            "text/plain": [
              "('climate.txt', <http.client.HTTPMessage at 0x7f6368c3d6d0>)"
            ]
          },
          "metadata": {},
          "execution_count": 19
        }
      ]
    },
    {
      "cell_type": "code",
      "source": [
        "climate_data=np.genfromtxt('climate.txt',delimiter=',',skip_header=1)"
      ],
      "metadata": {
        "id": "dNv0XJUDjsUe"
      },
      "execution_count": 20,
      "outputs": []
    },
    {
      "cell_type": "code",
      "source": [
        "climate_data.shape"
      ],
      "metadata": {
        "colab": {
          "base_uri": "https://localhost:8080/"
        },
        "id": "UbjR8TbbkMG1",
        "outputId": "0d595ffd-4dcc-45f2-dfee-d8508843d343"
      },
      "execution_count": 21,
      "outputs": [
        {
          "output_type": "execute_result",
          "data": {
            "text/plain": [
              "(10000, 3)"
            ]
          },
          "metadata": {},
          "execution_count": 21
        }
      ]
    },
    {
      "cell_type": "code",
      "source": [
        "yields=climate_data @ weights"
      ],
      "metadata": {
        "id": "DAm3gncDkYzq"
      },
      "execution_count": 22,
      "outputs": []
    },
    {
      "cell_type": "code",
      "source": [
        "yields.shape"
      ],
      "metadata": {
        "colab": {
          "base_uri": "https://localhost:8080/"
        },
        "id": "hCTlONDQkfF3",
        "outputId": "c0721f15-9a9d-485b-c6c4-5dab549e34eb"
      },
      "execution_count": 23,
      "outputs": [
        {
          "output_type": "execute_result",
          "data": {
            "text/plain": [
              "(10000,)"
            ]
          },
          "metadata": {},
          "execution_count": 23
        }
      ]
    },
    {
      "cell_type": "code",
      "source": [
        "from numpy.core.multiarray import concatenate\n",
        "climate_result=concatenate((climate_data,yields.reshape(10000,1)),axis=1)"
      ],
      "metadata": {
        "id": "QPrbjftJlAp4"
      },
      "execution_count": 24,
      "outputs": []
    },
    {
      "cell_type": "code",
      "source": [
        "climate_result"
      ],
      "metadata": {
        "id": "DcKSvY5dlr3G",
        "colab": {
          "base_uri": "https://localhost:8080/"
        },
        "outputId": "8d9fbb34-870a-4f4f-82a0-122659d0839c"
      },
      "execution_count": 25,
      "outputs": [
        {
          "output_type": "execute_result",
          "data": {
            "text/plain": [
              "array([[25. , 76. , 99. , 72.2],\n",
              "       [39. , 65. , 70. , 59.7],\n",
              "       [59. , 45. , 77. , 65.2],\n",
              "       ...,\n",
              "       [99. , 62. , 58. , 71.1],\n",
              "       [70. , 71. , 91. , 80.7],\n",
              "       [92. , 39. , 76. , 73.4]])"
            ]
          },
          "metadata": {},
          "execution_count": 25
        }
      ]
    },
    {
      "cell_type": "code",
      "source": [
        "np.savetxt('climate_result.txt',climate_result,fmt='%.2f',header='Temperature,Rainfall,Humidity,Yield_apples',comments=\"\")"
      ],
      "metadata": {
        "id": "YizlHN0FqYkw"
      },
      "execution_count": 26,
      "outputs": []
    },
    {
      "cell_type": "markdown",
      "source": [
        "###Arithmetic operations, broadcasting and comparison\n",
        "Numpy arrays support arithmetic operators like +, -, *, etc. You can perform an arithmetic operation with a single number (also called scalar) or with another array of the same shape. Operators make it easy to write mathematical expressions with multi-dimensional arrays"
      ],
      "metadata": {
        "id": "ZpM53O0Srvc4"
      }
    },
    {
      "cell_type": "code",
      "source": [
        "arr2 = np.array([[1, 2, 3, 4], \n",
        "                 [5, 6, 7, 8], \n",
        "                 [9, 1, 2, 3]])"
      ],
      "metadata": {
        "id": "JBRH8rqsru3Z"
      },
      "execution_count": 27,
      "outputs": []
    },
    {
      "cell_type": "code",
      "execution_count": 28,
      "metadata": {
        "id": "kEAg4IV64wlv"
      },
      "outputs": [],
      "source": [
        "arr2 = np.array([[1, 2, 3, 4], \n",
        "                 [5, 6, 7, 8], \n",
        "                 [9, 1, 2, 3]])"
      ]
    },
    {
      "cell_type": "code",
      "execution_count": 29,
      "metadata": {
        "id": "BXBXiFio4wlv"
      },
      "outputs": [],
      "source": [
        "arr3 = np.array([[11, 12, 13, 14], \n",
        "                 [15, 16, 17, 18], \n",
        "                 [19, 11, 12, 13]])"
      ]
    },
    {
      "cell_type": "code",
      "execution_count": 30,
      "metadata": {
        "colab": {
          "base_uri": "https://localhost:8080/"
        },
        "id": "VjVkV7654wlw",
        "outputId": "0001d5e4-6330-448c-9faa-ccebfb543e3c"
      },
      "outputs": [
        {
          "output_type": "execute_result",
          "data": {
            "text/plain": [
              "array([[ 4,  5,  6,  7],\n",
              "       [ 8,  9, 10, 11],\n",
              "       [12,  4,  5,  6]])"
            ]
          },
          "metadata": {},
          "execution_count": 30
        }
      ],
      "source": [
        "# Adding a scalar\n",
        "arr2 + 3"
      ]
    },
    {
      "cell_type": "code",
      "execution_count": 31,
      "metadata": {
        "colab": {
          "base_uri": "https://localhost:8080/"
        },
        "id": "RBSGelef4wlw",
        "outputId": "cbd63614-a838-4d0e-cd7c-b62cb40fc07e"
      },
      "outputs": [
        {
          "output_type": "execute_result",
          "data": {
            "text/plain": [
              "array([[10, 10, 10, 10],\n",
              "       [10, 10, 10, 10],\n",
              "       [10, 10, 10, 10]])"
            ]
          },
          "metadata": {},
          "execution_count": 31
        }
      ],
      "source": [
        "# Element-wise subtraction\n",
        "arr3 - arr2"
      ]
    },
    {
      "cell_type": "code",
      "execution_count": 32,
      "metadata": {
        "colab": {
          "base_uri": "https://localhost:8080/"
        },
        "id": "UpzwZTBS4wlw",
        "outputId": "1a8c6ad9-8337-4427-a196-11f850d640ba"
      },
      "outputs": [
        {
          "output_type": "execute_result",
          "data": {
            "text/plain": [
              "array([[0.5, 1. , 1.5, 2. ],\n",
              "       [2.5, 3. , 3.5, 4. ],\n",
              "       [4.5, 0.5, 1. , 1.5]])"
            ]
          },
          "metadata": {},
          "execution_count": 32
        }
      ],
      "source": [
        "# Division by scalar\n",
        "arr2 / 2"
      ]
    },
    {
      "cell_type": "code",
      "execution_count": 33,
      "metadata": {
        "colab": {
          "base_uri": "https://localhost:8080/"
        },
        "id": "hBgsZHNH4wlx",
        "outputId": "ba186cae-6298-422c-fc2a-4e816f87aec6"
      },
      "outputs": [
        {
          "output_type": "execute_result",
          "data": {
            "text/plain": [
              "array([[ 11,  24,  39,  56],\n",
              "       [ 75,  96, 119, 144],\n",
              "       [171,  11,  24,  39]])"
            ]
          },
          "metadata": {},
          "execution_count": 33
        }
      ],
      "source": [
        "# Element-wise multiplication\n",
        "arr2 * arr3"
      ]
    },
    {
      "cell_type": "code",
      "execution_count": 34,
      "metadata": {
        "colab": {
          "base_uri": "https://localhost:8080/"
        },
        "id": "gTnsE-c14wlx",
        "outputId": "168fb176-7408-4188-bd42-4a29d7028878"
      },
      "outputs": [
        {
          "output_type": "execute_result",
          "data": {
            "text/plain": [
              "array([[1, 2, 3, 0],\n",
              "       [1, 2, 3, 0],\n",
              "       [1, 1, 2, 3]])"
            ]
          },
          "metadata": {},
          "execution_count": 34
        }
      ],
      "source": [
        "# Modulus with scalar\n",
        "arr2 % 4"
      ]
    },
    {
      "cell_type": "code",
      "source": [
        "#intexing\n",
        "arr3 = np.array([\n",
        "    [[11, 12, 13, 14], \n",
        "     [13, 14, 15, 19]], \n",
        "    \n",
        "    [[15, 16, 17, 21], \n",
        "     [63, 92, 36, 18]], \n",
        "    \n",
        "    [[98, 32, 81, 23],      \n",
        "     [17, 18, 19.5, 43]]])"
      ],
      "metadata": {
        "id": "uajQcbF2pkJi"
      },
      "execution_count": 35,
      "outputs": []
    },
    {
      "cell_type": "code",
      "source": [
        "arr3[0,1,2]   #0 from"
      ],
      "metadata": {
        "colab": {
          "base_uri": "https://localhost:8080/"
        },
        "id": "9kZJwla4pvO2",
        "outputId": "256ae867-ace8-4286-e18a-3d32937a2314"
      },
      "execution_count": 37,
      "outputs": [
        {
          "output_type": "execute_result",
          "data": {
            "text/plain": [
              "15.0"
            ]
          },
          "metadata": {},
          "execution_count": 37
        }
      ]
    }
  ]
}