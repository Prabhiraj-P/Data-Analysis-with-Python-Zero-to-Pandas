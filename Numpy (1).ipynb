{
  "nbformat": 4,
  "nbformat_minor": 0,
  "metadata": {
    "colab": {
      "provenance": []
    },
    "kernelspec": {
      "name": "python3",
      "display_name": "Python 3"
    },
    "language_info": {
      "name": "python"
    }
  },
  "cells": [
    {
      "cell_type": "markdown",
      "source": [
        "###Numerical computing with numpy"
      ],
      "metadata": {
        "id": "4IrW2gBE7GSF"
      }
    },
    {
      "cell_type": "code",
      "source": [
        "w1,w2,w3=0.3,0.2,0.5"
      ],
      "metadata": {
        "id": "0BzZOtiumj28"
      },
      "execution_count": 5,
      "outputs": []
    },
    {
      "cell_type": "code",
      "source": [
        "kanto=[73,67,43]\n",
        "johto=[91,88,64]\n",
        "hoenn=[87,134,58]\n",
        "sinnoh=[102,43,37]\n",
        "unova=[69,96,70]"
      ],
      "metadata": {
        "id": "P7fvDaie908V"
      },
      "execution_count": 3,
      "outputs": []
    },
    {
      "cell_type": "code",
      "source": [
        "weights=[w1,w2,w3]"
      ],
      "metadata": {
        "id": "HHqzbd9UmsS2"
      },
      "execution_count": 6,
      "outputs": []
    },
    {
      "cell_type": "markdown",
      "source": [
        "function to calculate crop yield"
      ],
      "metadata": {
        "id": "mg8IOkW0n3am"
      }
    },
    {
      "cell_type": "code",
      "source": [
        "def crop_yield(region,weight):\n",
        "  result=0\n",
        "  for x,w in zip(region,weight):#zip is to pairs out region and weight\n",
        "    result+=w*x\n",
        "  return result"
      ],
      "metadata": {
        "id": "jD3CoYVan0zK"
      },
      "execution_count": 9,
      "outputs": []
    },
    {
      "cell_type": "code",
      "source": [
        "crop_yield(sinnoh,weights)"
      ],
      "metadata": {
        "colab": {
          "base_uri": "https://localhost:8080/"
        },
        "id": "i1bqMjbSIDGo",
        "outputId": "630b07d4-0d2a-4a6d-8984-7550b9eba60c"
      },
      "execution_count": 8,
      "outputs": [
        {
          "output_type": "execute_result",
          "data": {
            "text/plain": [
              "57.699999999999996"
            ]
          },
          "metadata": {},
          "execution_count": 8
        }
      ]
    }
  ]
}